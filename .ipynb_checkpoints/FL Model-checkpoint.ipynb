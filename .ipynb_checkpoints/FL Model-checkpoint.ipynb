{
 "cells": [
  {
   "cell_type": "code",
   "execution_count": 1,
   "id": "65e8bf5e",
   "metadata": {},
   "outputs": [],
   "source": [
    "import tensorflow as tf\n",
    "import random"
   ]
  },
  {
   "cell_type": "code",
   "execution_count": 2,
   "id": "763b214e",
   "metadata": {},
   "outputs": [],
   "source": [
    "ImageDataGenerator=tf.keras.preprocessing.image.ImageDataGenerator"
   ]
  },
  {
   "cell_type": "code",
   "execution_count": 3,
   "id": "0f6161f7",
   "metadata": {},
   "outputs": [],
   "source": [
    "Training_dir=\"C:/Users/avvar/FL Detection/train/\""
   ]
  },
  {
   "cell_type": "code",
   "execution_count": 4,
   "id": "17ca2300",
   "metadata": {},
   "outputs": [
    {
     "name": "stdout",
     "output_type": "stream",
     "text": [
      "Found 60 images belonging to 6 classes.\n"
     ]
    }
   ],
   "source": [
    "train_datagen=ImageDataGenerator(rescale=1.0/255.)\n",
    "train_generator=train_datagen.flow_from_directory(Training_dir,batch_size=32,class_mode='binary',target_size=(200,200))"
   ]
  },
  {
   "cell_type": "code",
   "execution_count": 5,
   "id": "dc6b046e",
   "metadata": {},
   "outputs": [],
   "source": [
    "validation_dir=\"C:/Users/avvar/FL Detection/test/\""
   ]
  },
  {
   "cell_type": "code",
   "execution_count": 6,
   "id": "43ce3755",
   "metadata": {},
   "outputs": [
    {
     "name": "stdout",
     "output_type": "stream",
     "text": [
      "Found 30 images belonging to 6 classes.\n"
     ]
    }
   ],
   "source": [
    "validation_datagen=ImageDataGenerator(rescale=1.0/255.)\n",
    "validation_generator=validation_datagen.flow_from_directory(validation_dir,batch_size=32,class_mode='binary',target_size=(200,200))"
   ]
  },
  {
   "cell_type": "code",
   "execution_count": null,
   "id": "be8308aa",
   "metadata": {},
   "outputs": [],
   "source": []
  }
 ],
 "metadata": {
  "kernelspec": {
   "display_name": "imageclassification",
   "language": "python",
   "name": "imageclassification"
  },
  "language_info": {
   "codemirror_mode": {
    "name": "ipython",
    "version": 3
   },
   "file_extension": ".py",
   "mimetype": "text/x-python",
   "name": "python",
   "nbconvert_exporter": "python",
   "pygments_lexer": "ipython3",
   "version": "3.10.4"
  }
 },
 "nbformat": 4,
 "nbformat_minor": 5
}
